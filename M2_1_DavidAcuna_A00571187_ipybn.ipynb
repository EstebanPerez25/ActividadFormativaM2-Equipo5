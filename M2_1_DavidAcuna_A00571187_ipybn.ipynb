{
  "nbformat": 4,
  "nbformat_minor": 0,
  "metadata": {
    "colab": {
      "provenance": [],
      "authorship_tag": "ABX9TyPSUkHvuK6FrBi1Ujilz9u9",
      "include_colab_link": true
    },
    "kernelspec": {
      "name": "python3",
      "display_name": "Python 3"
    },
    "language_info": {
      "name": "python"
    }
  },
  "cells": [
    {
      "cell_type": "markdown",
      "metadata": {
        "id": "view-in-github",
        "colab_type": "text"
      },
      "source": [
        "<a href=\"https://colab.research.google.com/github/EstebanPerez25/ActividadFormativaM2-Equipo5/blob/main/M2_1_DavidAcuna_A00571187_ipybn.ipynb\" target=\"_parent\"><img src=\"https://colab.research.google.com/assets/colab-badge.svg\" alt=\"Open In Colab\"/></a>"
      ]
    },
    {
      "cell_type": "markdown",
      "source": [
        "Actividad M2.1 Uso de Google Colab\n",
        "\n",
        "\n",
        "David Alejandro Acuña Orozco\n"
      ],
      "metadata": {
        "id": "WQc1VufJHgy2"
      }
    },
    {
      "cell_type": "markdown",
      "source": [
        "### Lectura de Datos"
      ],
      "metadata": {
        "id": "ToGLNllSKI_x"
      }
    },
    {
      "cell_type": "code",
      "source": [
        "from google.colab import drive\n",
        "drive.mount('/content/drive')"
      ],
      "metadata": {
        "colab": {
          "base_uri": "https://localhost:8080/"
        },
        "id": "h_HLWsEKI1Fm",
        "outputId": "bfb71a1e-9425-413a-afb6-575b05373e1c"
      },
      "execution_count": 1,
      "outputs": [
        {
          "output_type": "stream",
          "name": "stdout",
          "text": [
            "Mounted at /content/drive\n"
          ]
        }
      ]
    },
    {
      "cell_type": "code",
      "source": [
        "import pandas as pd\n",
        "df = pd.read_csv(\"/content/drive/MyDrive/TC2004B.301/titanic.csv\")"
      ],
      "metadata": {
        "id": "zQbAHDnMJ52v"
      },
      "execution_count": 2,
      "outputs": []
    },
    {
      "cell_type": "markdown",
      "source": [
        "### Descripción de Variables"
      ],
      "metadata": {
        "id": "HSeJ9uR-KTQp"
      }
    },
    {
      "cell_type": "code",
      "source": [
        "df.head()"
      ],
      "metadata": {
        "colab": {
          "base_uri": "https://localhost:8080/",
          "height": 250
        },
        "id": "WCFodiDOKZkU",
        "outputId": "a4438e6b-02a8-4bf4-90d9-e82481cf7eca"
      },
      "execution_count": 3,
      "outputs": [
        {
          "output_type": "execute_result",
          "data": {
            "text/plain": [
              "   PassengerId  Survived  Pclass  \\\n",
              "0            1         0       3   \n",
              "1            2         1       1   \n",
              "2            3         1       3   \n",
              "3            4         1       1   \n",
              "4            5         0       3   \n",
              "\n",
              "                                                Name     Sex   Age  SibSp  \\\n",
              "0                            Braund, Mr. Owen Harris    male  22.0      1   \n",
              "1  Cumings, Mrs. John Bradley (Florence Briggs Th...  female  38.0      1   \n",
              "2                             Heikkinen, Miss. Laina  female  26.0      0   \n",
              "3       Futrelle, Mrs. Jacques Heath (Lily May Peel)  female  35.0      1   \n",
              "4                           Allen, Mr. William Henry    male  35.0      0   \n",
              "\n",
              "   Parch            Ticket     Fare Cabin Embarked  \n",
              "0      0         A/5 21171   7.2500   NaN        S  \n",
              "1      0          PC 17599  71.2833   C85        C  \n",
              "2      0  STON/O2. 3101282   7.9250   NaN        S  \n",
              "3      0            113803  53.1000  C123        S  \n",
              "4      0            373450   8.0500   NaN        S  "
            ],
            "text/html": [
              "\n",
              "  <div id=\"df-4ed068aa-a570-4783-a083-9f2ec06c0863\">\n",
              "    <div class=\"colab-df-container\">\n",
              "      <div>\n",
              "<style scoped>\n",
              "    .dataframe tbody tr th:only-of-type {\n",
              "        vertical-align: middle;\n",
              "    }\n",
              "\n",
              "    .dataframe tbody tr th {\n",
              "        vertical-align: top;\n",
              "    }\n",
              "\n",
              "    .dataframe thead th {\n",
              "        text-align: right;\n",
              "    }\n",
              "</style>\n",
              "<table border=\"1\" class=\"dataframe\">\n",
              "  <thead>\n",
              "    <tr style=\"text-align: right;\">\n",
              "      <th></th>\n",
              "      <th>PassengerId</th>\n",
              "      <th>Survived</th>\n",
              "      <th>Pclass</th>\n",
              "      <th>Name</th>\n",
              "      <th>Sex</th>\n",
              "      <th>Age</th>\n",
              "      <th>SibSp</th>\n",
              "      <th>Parch</th>\n",
              "      <th>Ticket</th>\n",
              "      <th>Fare</th>\n",
              "      <th>Cabin</th>\n",
              "      <th>Embarked</th>\n",
              "    </tr>\n",
              "  </thead>\n",
              "  <tbody>\n",
              "    <tr>\n",
              "      <th>0</th>\n",
              "      <td>1</td>\n",
              "      <td>0</td>\n",
              "      <td>3</td>\n",
              "      <td>Braund, Mr. Owen Harris</td>\n",
              "      <td>male</td>\n",
              "      <td>22.0</td>\n",
              "      <td>1</td>\n",
              "      <td>0</td>\n",
              "      <td>A/5 21171</td>\n",
              "      <td>7.2500</td>\n",
              "      <td>NaN</td>\n",
              "      <td>S</td>\n",
              "    </tr>\n",
              "    <tr>\n",
              "      <th>1</th>\n",
              "      <td>2</td>\n",
              "      <td>1</td>\n",
              "      <td>1</td>\n",
              "      <td>Cumings, Mrs. John Bradley (Florence Briggs Th...</td>\n",
              "      <td>female</td>\n",
              "      <td>38.0</td>\n",
              "      <td>1</td>\n",
              "      <td>0</td>\n",
              "      <td>PC 17599</td>\n",
              "      <td>71.2833</td>\n",
              "      <td>C85</td>\n",
              "      <td>C</td>\n",
              "    </tr>\n",
              "    <tr>\n",
              "      <th>2</th>\n",
              "      <td>3</td>\n",
              "      <td>1</td>\n",
              "      <td>3</td>\n",
              "      <td>Heikkinen, Miss. Laina</td>\n",
              "      <td>female</td>\n",
              "      <td>26.0</td>\n",
              "      <td>0</td>\n",
              "      <td>0</td>\n",
              "      <td>STON/O2. 3101282</td>\n",
              "      <td>7.9250</td>\n",
              "      <td>NaN</td>\n",
              "      <td>S</td>\n",
              "    </tr>\n",
              "    <tr>\n",
              "      <th>3</th>\n",
              "      <td>4</td>\n",
              "      <td>1</td>\n",
              "      <td>1</td>\n",
              "      <td>Futrelle, Mrs. Jacques Heath (Lily May Peel)</td>\n",
              "      <td>female</td>\n",
              "      <td>35.0</td>\n",
              "      <td>1</td>\n",
              "      <td>0</td>\n",
              "      <td>113803</td>\n",
              "      <td>53.1000</td>\n",
              "      <td>C123</td>\n",
              "      <td>S</td>\n",
              "    </tr>\n",
              "    <tr>\n",
              "      <th>4</th>\n",
              "      <td>5</td>\n",
              "      <td>0</td>\n",
              "      <td>3</td>\n",
              "      <td>Allen, Mr. William Henry</td>\n",
              "      <td>male</td>\n",
              "      <td>35.0</td>\n",
              "      <td>0</td>\n",
              "      <td>0</td>\n",
              "      <td>373450</td>\n",
              "      <td>8.0500</td>\n",
              "      <td>NaN</td>\n",
              "      <td>S</td>\n",
              "    </tr>\n",
              "  </tbody>\n",
              "</table>\n",
              "</div>\n",
              "      <button class=\"colab-df-convert\" onclick=\"convertToInteractive('df-4ed068aa-a570-4783-a083-9f2ec06c0863')\"\n",
              "              title=\"Convert this dataframe to an interactive table.\"\n",
              "              style=\"display:none;\">\n",
              "        \n",
              "  <svg xmlns=\"http://www.w3.org/2000/svg\" height=\"24px\"viewBox=\"0 0 24 24\"\n",
              "       width=\"24px\">\n",
              "    <path d=\"M0 0h24v24H0V0z\" fill=\"none\"/>\n",
              "    <path d=\"M18.56 5.44l.94 2.06.94-2.06 2.06-.94-2.06-.94-.94-2.06-.94 2.06-2.06.94zm-11 1L8.5 8.5l.94-2.06 2.06-.94-2.06-.94L8.5 2.5l-.94 2.06-2.06.94zm10 10l.94 2.06.94-2.06 2.06-.94-2.06-.94-.94-2.06-.94 2.06-2.06.94z\"/><path d=\"M17.41 7.96l-1.37-1.37c-.4-.4-.92-.59-1.43-.59-.52 0-1.04.2-1.43.59L10.3 9.45l-7.72 7.72c-.78.78-.78 2.05 0 2.83L4 21.41c.39.39.9.59 1.41.59.51 0 1.02-.2 1.41-.59l7.78-7.78 2.81-2.81c.8-.78.8-2.07 0-2.86zM5.41 20L4 18.59l7.72-7.72 1.47 1.35L5.41 20z\"/>\n",
              "  </svg>\n",
              "      </button>\n",
              "      \n",
              "  <style>\n",
              "    .colab-df-container {\n",
              "      display:flex;\n",
              "      flex-wrap:wrap;\n",
              "      gap: 12px;\n",
              "    }\n",
              "\n",
              "    .colab-df-convert {\n",
              "      background-color: #E8F0FE;\n",
              "      border: none;\n",
              "      border-radius: 50%;\n",
              "      cursor: pointer;\n",
              "      display: none;\n",
              "      fill: #1967D2;\n",
              "      height: 32px;\n",
              "      padding: 0 0 0 0;\n",
              "      width: 32px;\n",
              "    }\n",
              "\n",
              "    .colab-df-convert:hover {\n",
              "      background-color: #E2EBFA;\n",
              "      box-shadow: 0px 1px 2px rgba(60, 64, 67, 0.3), 0px 1px 3px 1px rgba(60, 64, 67, 0.15);\n",
              "      fill: #174EA6;\n",
              "    }\n",
              "\n",
              "    [theme=dark] .colab-df-convert {\n",
              "      background-color: #3B4455;\n",
              "      fill: #D2E3FC;\n",
              "    }\n",
              "\n",
              "    [theme=dark] .colab-df-convert:hover {\n",
              "      background-color: #434B5C;\n",
              "      box-shadow: 0px 1px 3px 1px rgba(0, 0, 0, 0.15);\n",
              "      filter: drop-shadow(0px 1px 2px rgba(0, 0, 0, 0.3));\n",
              "      fill: #FFFFFF;\n",
              "    }\n",
              "  </style>\n",
              "\n",
              "      <script>\n",
              "        const buttonEl =\n",
              "          document.querySelector('#df-4ed068aa-a570-4783-a083-9f2ec06c0863 button.colab-df-convert');\n",
              "        buttonEl.style.display =\n",
              "          google.colab.kernel.accessAllowed ? 'block' : 'none';\n",
              "\n",
              "        async function convertToInteractive(key) {\n",
              "          const element = document.querySelector('#df-4ed068aa-a570-4783-a083-9f2ec06c0863');\n",
              "          const dataTable =\n",
              "            await google.colab.kernel.invokeFunction('convertToInteractive',\n",
              "                                                     [key], {});\n",
              "          if (!dataTable) return;\n",
              "\n",
              "          const docLinkHtml = 'Like what you see? Visit the ' +\n",
              "            '<a target=\"_blank\" href=https://colab.research.google.com/notebooks/data_table.ipynb>data table notebook</a>'\n",
              "            + ' to learn more about interactive tables.';\n",
              "          element.innerHTML = '';\n",
              "          dataTable['output_type'] = 'display_data';\n",
              "          await google.colab.output.renderOutput(dataTable, element);\n",
              "          const docLink = document.createElement('div');\n",
              "          docLink.innerHTML = docLinkHtml;\n",
              "          element.appendChild(docLink);\n",
              "        }\n",
              "      </script>\n",
              "    </div>\n",
              "  </div>\n",
              "  "
            ]
          },
          "metadata": {},
          "execution_count": 3
        }
      ]
    },
    {
      "cell_type": "code",
      "source": [
        "# Obtener los tipos de variables en el dataset\n",
        "tipos_variables = df.dtypes\n",
        "\n",
        "# Separar las variables categóricas y numéricas\n",
        "variables_categoricas = tipos_variables[tipos_variables == 'object'].index.tolist()\n",
        "variables_numericas = tipos_variables[tipos_variables != 'object'].index.tolist()"
      ],
      "metadata": {
        "id": "VekEwCv7LSrN"
      },
      "execution_count": 4,
      "outputs": []
    },
    {
      "cell_type": "code",
      "source": [
        "print(\"Variables categóricas:\")\n",
        "print(variables_categoricas)"
      ],
      "metadata": {
        "colab": {
          "base_uri": "https://localhost:8080/"
        },
        "id": "Vb78yVieLWNK",
        "outputId": "48b5f516-72c3-4793-c4fa-e4307fc1ac2f"
      },
      "execution_count": 5,
      "outputs": [
        {
          "output_type": "stream",
          "name": "stdout",
          "text": [
            "Variables categóricas:\n",
            "['Name', 'Sex', 'Ticket', 'Cabin', 'Embarked']\n"
          ]
        }
      ]
    },
    {
      "cell_type": "code",
      "source": [
        "print(\"\\nVariables numéricas:\")\n",
        "print(variables_numericas)"
      ],
      "metadata": {
        "colab": {
          "base_uri": "https://localhost:8080/"
        },
        "id": "tz5RKaUELcOZ",
        "outputId": "52d8237a-5db0-4f38-d372-d065288f8388"
      },
      "execution_count": 6,
      "outputs": [
        {
          "output_type": "stream",
          "name": "stdout",
          "text": [
            "\n",
            "Variables numéricas:\n",
            "['PassengerId', 'Survived', 'Pclass', 'Age', 'SibSp', 'Parch', 'Fare']\n"
          ]
        }
      ]
    },
    {
      "cell_type": "code",
      "source": [
        "# Obtener los nombres de las columnas\n",
        "columnas = df.columns\n",
        "print(\"Nombres de las columnas:\")\n",
        "print(columnas)"
      ],
      "metadata": {
        "colab": {
          "base_uri": "https://localhost:8080/"
        },
        "id": "aJtAvyFTLr9g",
        "outputId": "c3b917bb-6dc0-41dc-ab3e-74f3e1cfa033"
      },
      "execution_count": 7,
      "outputs": [
        {
          "output_type": "stream",
          "name": "stdout",
          "text": [
            "Nombres de las columnas:\n",
            "Index(['PassengerId', 'Survived', 'Pclass', 'Name', 'Sex', 'Age', 'SibSp',\n",
            "       'Parch', 'Ticket', 'Fare', 'Cabin', 'Embarked'],\n",
            "      dtype='object')\n"
          ]
        }
      ]
    },
    {
      "cell_type": "code",
      "source": [
        "df.info()"
      ],
      "metadata": {
        "colab": {
          "base_uri": "https://localhost:8080/"
        },
        "id": "Ywk2-2unLxqj",
        "outputId": "04ed4ed2-e524-40f6-c689-799eab43e7ec"
      },
      "execution_count": 8,
      "outputs": [
        {
          "output_type": "stream",
          "name": "stdout",
          "text": [
            "<class 'pandas.core.frame.DataFrame'>\n",
            "RangeIndex: 891 entries, 0 to 890\n",
            "Data columns (total 12 columns):\n",
            " #   Column       Non-Null Count  Dtype  \n",
            "---  ------       --------------  -----  \n",
            " 0   PassengerId  891 non-null    int64  \n",
            " 1   Survived     891 non-null    int64  \n",
            " 2   Pclass       891 non-null    int64  \n",
            " 3   Name         891 non-null    object \n",
            " 4   Sex          891 non-null    object \n",
            " 5   Age          714 non-null    float64\n",
            " 6   SibSp        891 non-null    int64  \n",
            " 7   Parch        891 non-null    int64  \n",
            " 8   Ticket       891 non-null    object \n",
            " 9   Fare         891 non-null    float64\n",
            " 10  Cabin        204 non-null    object \n",
            " 11  Embarked     889 non-null    object \n",
            "dtypes: float64(2), int64(5), object(5)\n",
            "memory usage: 83.7+ KB\n"
          ]
        }
      ]
    },
    {
      "cell_type": "code",
      "source": [
        "df.describe()"
      ],
      "metadata": {
        "colab": {
          "base_uri": "https://localhost:8080/",
          "height": 300
        },
        "id": "2HkM1uRXL1Ue",
        "outputId": "4af5d87a-7243-4ca8-8749-1be8e15c012b"
      },
      "execution_count": 9,
      "outputs": [
        {
          "output_type": "execute_result",
          "data": {
            "text/plain": [
              "       PassengerId    Survived      Pclass         Age       SibSp  \\\n",
              "count   891.000000  891.000000  891.000000  714.000000  891.000000   \n",
              "mean    446.000000    0.383838    2.308642   29.699118    0.523008   \n",
              "std     257.353842    0.486592    0.836071   14.526497    1.102743   \n",
              "min       1.000000    0.000000    1.000000    0.420000    0.000000   \n",
              "25%     223.500000    0.000000    2.000000   20.125000    0.000000   \n",
              "50%     446.000000    0.000000    3.000000   28.000000    0.000000   \n",
              "75%     668.500000    1.000000    3.000000   38.000000    1.000000   \n",
              "max     891.000000    1.000000    3.000000   80.000000    8.000000   \n",
              "\n",
              "            Parch        Fare  \n",
              "count  891.000000  891.000000  \n",
              "mean     0.381594   32.204208  \n",
              "std      0.806057   49.693429  \n",
              "min      0.000000    0.000000  \n",
              "25%      0.000000    7.910400  \n",
              "50%      0.000000   14.454200  \n",
              "75%      0.000000   31.000000  \n",
              "max      6.000000  512.329200  "
            ],
            "text/html": [
              "\n",
              "  <div id=\"df-65bb46fe-c4ce-41f2-ad56-a8dbac377b20\">\n",
              "    <div class=\"colab-df-container\">\n",
              "      <div>\n",
              "<style scoped>\n",
              "    .dataframe tbody tr th:only-of-type {\n",
              "        vertical-align: middle;\n",
              "    }\n",
              "\n",
              "    .dataframe tbody tr th {\n",
              "        vertical-align: top;\n",
              "    }\n",
              "\n",
              "    .dataframe thead th {\n",
              "        text-align: right;\n",
              "    }\n",
              "</style>\n",
              "<table border=\"1\" class=\"dataframe\">\n",
              "  <thead>\n",
              "    <tr style=\"text-align: right;\">\n",
              "      <th></th>\n",
              "      <th>PassengerId</th>\n",
              "      <th>Survived</th>\n",
              "      <th>Pclass</th>\n",
              "      <th>Age</th>\n",
              "      <th>SibSp</th>\n",
              "      <th>Parch</th>\n",
              "      <th>Fare</th>\n",
              "    </tr>\n",
              "  </thead>\n",
              "  <tbody>\n",
              "    <tr>\n",
              "      <th>count</th>\n",
              "      <td>891.000000</td>\n",
              "      <td>891.000000</td>\n",
              "      <td>891.000000</td>\n",
              "      <td>714.000000</td>\n",
              "      <td>891.000000</td>\n",
              "      <td>891.000000</td>\n",
              "      <td>891.000000</td>\n",
              "    </tr>\n",
              "    <tr>\n",
              "      <th>mean</th>\n",
              "      <td>446.000000</td>\n",
              "      <td>0.383838</td>\n",
              "      <td>2.308642</td>\n",
              "      <td>29.699118</td>\n",
              "      <td>0.523008</td>\n",
              "      <td>0.381594</td>\n",
              "      <td>32.204208</td>\n",
              "    </tr>\n",
              "    <tr>\n",
              "      <th>std</th>\n",
              "      <td>257.353842</td>\n",
              "      <td>0.486592</td>\n",
              "      <td>0.836071</td>\n",
              "      <td>14.526497</td>\n",
              "      <td>1.102743</td>\n",
              "      <td>0.806057</td>\n",
              "      <td>49.693429</td>\n",
              "    </tr>\n",
              "    <tr>\n",
              "      <th>min</th>\n",
              "      <td>1.000000</td>\n",
              "      <td>0.000000</td>\n",
              "      <td>1.000000</td>\n",
              "      <td>0.420000</td>\n",
              "      <td>0.000000</td>\n",
              "      <td>0.000000</td>\n",
              "      <td>0.000000</td>\n",
              "    </tr>\n",
              "    <tr>\n",
              "      <th>25%</th>\n",
              "      <td>223.500000</td>\n",
              "      <td>0.000000</td>\n",
              "      <td>2.000000</td>\n",
              "      <td>20.125000</td>\n",
              "      <td>0.000000</td>\n",
              "      <td>0.000000</td>\n",
              "      <td>7.910400</td>\n",
              "    </tr>\n",
              "    <tr>\n",
              "      <th>50%</th>\n",
              "      <td>446.000000</td>\n",
              "      <td>0.000000</td>\n",
              "      <td>3.000000</td>\n",
              "      <td>28.000000</td>\n",
              "      <td>0.000000</td>\n",
              "      <td>0.000000</td>\n",
              "      <td>14.454200</td>\n",
              "    </tr>\n",
              "    <tr>\n",
              "      <th>75%</th>\n",
              "      <td>668.500000</td>\n",
              "      <td>1.000000</td>\n",
              "      <td>3.000000</td>\n",
              "      <td>38.000000</td>\n",
              "      <td>1.000000</td>\n",
              "      <td>0.000000</td>\n",
              "      <td>31.000000</td>\n",
              "    </tr>\n",
              "    <tr>\n",
              "      <th>max</th>\n",
              "      <td>891.000000</td>\n",
              "      <td>1.000000</td>\n",
              "      <td>3.000000</td>\n",
              "      <td>80.000000</td>\n",
              "      <td>8.000000</td>\n",
              "      <td>6.000000</td>\n",
              "      <td>512.329200</td>\n",
              "    </tr>\n",
              "  </tbody>\n",
              "</table>\n",
              "</div>\n",
              "      <button class=\"colab-df-convert\" onclick=\"convertToInteractive('df-65bb46fe-c4ce-41f2-ad56-a8dbac377b20')\"\n",
              "              title=\"Convert this dataframe to an interactive table.\"\n",
              "              style=\"display:none;\">\n",
              "        \n",
              "  <svg xmlns=\"http://www.w3.org/2000/svg\" height=\"24px\"viewBox=\"0 0 24 24\"\n",
              "       width=\"24px\">\n",
              "    <path d=\"M0 0h24v24H0V0z\" fill=\"none\"/>\n",
              "    <path d=\"M18.56 5.44l.94 2.06.94-2.06 2.06-.94-2.06-.94-.94-2.06-.94 2.06-2.06.94zm-11 1L8.5 8.5l.94-2.06 2.06-.94-2.06-.94L8.5 2.5l-.94 2.06-2.06.94zm10 10l.94 2.06.94-2.06 2.06-.94-2.06-.94-.94-2.06-.94 2.06-2.06.94z\"/><path d=\"M17.41 7.96l-1.37-1.37c-.4-.4-.92-.59-1.43-.59-.52 0-1.04.2-1.43.59L10.3 9.45l-7.72 7.72c-.78.78-.78 2.05 0 2.83L4 21.41c.39.39.9.59 1.41.59.51 0 1.02-.2 1.41-.59l7.78-7.78 2.81-2.81c.8-.78.8-2.07 0-2.86zM5.41 20L4 18.59l7.72-7.72 1.47 1.35L5.41 20z\"/>\n",
              "  </svg>\n",
              "      </button>\n",
              "      \n",
              "  <style>\n",
              "    .colab-df-container {\n",
              "      display:flex;\n",
              "      flex-wrap:wrap;\n",
              "      gap: 12px;\n",
              "    }\n",
              "\n",
              "    .colab-df-convert {\n",
              "      background-color: #E8F0FE;\n",
              "      border: none;\n",
              "      border-radius: 50%;\n",
              "      cursor: pointer;\n",
              "      display: none;\n",
              "      fill: #1967D2;\n",
              "      height: 32px;\n",
              "      padding: 0 0 0 0;\n",
              "      width: 32px;\n",
              "    }\n",
              "\n",
              "    .colab-df-convert:hover {\n",
              "      background-color: #E2EBFA;\n",
              "      box-shadow: 0px 1px 2px rgba(60, 64, 67, 0.3), 0px 1px 3px 1px rgba(60, 64, 67, 0.15);\n",
              "      fill: #174EA6;\n",
              "    }\n",
              "\n",
              "    [theme=dark] .colab-df-convert {\n",
              "      background-color: #3B4455;\n",
              "      fill: #D2E3FC;\n",
              "    }\n",
              "\n",
              "    [theme=dark] .colab-df-convert:hover {\n",
              "      background-color: #434B5C;\n",
              "      box-shadow: 0px 1px 3px 1px rgba(0, 0, 0, 0.15);\n",
              "      filter: drop-shadow(0px 1px 2px rgba(0, 0, 0, 0.3));\n",
              "      fill: #FFFFFF;\n",
              "    }\n",
              "  </style>\n",
              "\n",
              "      <script>\n",
              "        const buttonEl =\n",
              "          document.querySelector('#df-65bb46fe-c4ce-41f2-ad56-a8dbac377b20 button.colab-df-convert');\n",
              "        buttonEl.style.display =\n",
              "          google.colab.kernel.accessAllowed ? 'block' : 'none';\n",
              "\n",
              "        async function convertToInteractive(key) {\n",
              "          const element = document.querySelector('#df-65bb46fe-c4ce-41f2-ad56-a8dbac377b20');\n",
              "          const dataTable =\n",
              "            await google.colab.kernel.invokeFunction('convertToInteractive',\n",
              "                                                     [key], {});\n",
              "          if (!dataTable) return;\n",
              "\n",
              "          const docLinkHtml = 'Like what you see? Visit the ' +\n",
              "            '<a target=\"_blank\" href=https://colab.research.google.com/notebooks/data_table.ipynb>data table notebook</a>'\n",
              "            + ' to learn more about interactive tables.';\n",
              "          element.innerHTML = '';\n",
              "          dataTable['output_type'] = 'display_data';\n",
              "          await google.colab.output.renderOutput(dataTable, element);\n",
              "          const docLink = document.createElement('div');\n",
              "          docLink.innerHTML = docLinkHtml;\n",
              "          element.appendChild(docLink);\n",
              "        }\n",
              "      </script>\n",
              "    </div>\n",
              "  </div>\n",
              "  "
            ]
          },
          "metadata": {},
          "execution_count": 9
        }
      ]
    },
    {
      "cell_type": "markdown",
      "source": [
        "> columns(): Esta función devuelve una lista con los nombres de las columnas \n",
        "del dataframe. Es útil para obtener un rápido vistazo a la estructura del dataframe y para acceder a columnas específicas mediante su nombre.\n",
        "\n",
        ">. \n",
        "\n",
        "> info(): La función info() proporciona un resumen conciso del dataframe. Muestra información sobre el índice, el número de columnas, los nombres de las columnas, el número de entradas no nulas en cada columna y el tipo de datos de cada columna. Esta función es útil para obtener una descripción general de los datos y verificar si hay valores faltantes en el dataframe.\n",
        "\n",
        "> .\n",
        "\n",
        "> describe(): La función describe() calcula estadísticas descriptivas de las columnas numéricas del dataframe. Proporciona información como el recuento (número de valores no nulos), la media, la desviación estándar, los valores mínimo y máximo, y los percentiles (25%, 50%, y 75%). Esta función es útil para obtener una visión general de la distribución y el rango de los valores numéricos en el dataframe."
      ],
      "metadata": {
        "id": "Pku0a8AzMJkV"
      }
    },
    {
      "cell_type": "code",
      "source": [
        "# Número total de registros\n",
        "total_registros = len(df)\n",
        "print(\"Total de registros:\", total_registros)"
      ],
      "metadata": {
        "colab": {
          "base_uri": "https://localhost:8080/"
        },
        "id": "HES-4K8eT2o3",
        "outputId": "f58ba596-77d4-4387-ed2a-406e2889b956"
      },
      "execution_count": 11,
      "outputs": [
        {
          "output_type": "stream",
          "name": "stdout",
          "text": [
            "Total de registros: 891\n"
          ]
        }
      ]
    },
    {
      "cell_type": "code",
      "source": [
        "# Registros con valores nulos\n",
        "registros_nulos = df[df.isnull().any(axis=1)]\n",
        "print(\"Registros con valores nulos:\")\n",
        "print(registros_nulos)"
      ],
      "metadata": {
        "colab": {
          "base_uri": "https://localhost:8080/"
        },
        "id": "h4GgtxaiT5rz",
        "outputId": "27110307-fc1a-4cc4-ea36-030fa5ce7a08"
      },
      "execution_count": 12,
      "outputs": [
        {
          "output_type": "stream",
          "name": "stdout",
          "text": [
            "Registros con valores nulos:\n",
            "     PassengerId  Survived  Pclass                                      Name  \\\n",
            "0              1         0       3                   Braund, Mr. Owen Harris   \n",
            "2              3         1       3                    Heikkinen, Miss. Laina   \n",
            "4              5         0       3                  Allen, Mr. William Henry   \n",
            "5              6         0       3                          Moran, Mr. James   \n",
            "7              8         0       3            Palsson, Master. Gosta Leonard   \n",
            "..           ...       ...     ...                                       ...   \n",
            "884          885         0       3                    Sutehall, Mr. Henry Jr   \n",
            "885          886         0       3      Rice, Mrs. William (Margaret Norton)   \n",
            "886          887         0       2                     Montvila, Rev. Juozas   \n",
            "888          889         0       3  Johnston, Miss. Catherine Helen \"Carrie\"   \n",
            "890          891         0       3                       Dooley, Mr. Patrick   \n",
            "\n",
            "        Sex   Age  SibSp  Parch            Ticket     Fare Cabin Embarked  \n",
            "0      male  22.0      1      0         A/5 21171   7.2500   NaN        S  \n",
            "2    female  26.0      0      0  STON/O2. 3101282   7.9250   NaN        S  \n",
            "4      male  35.0      0      0            373450   8.0500   NaN        S  \n",
            "5      male   NaN      0      0            330877   8.4583   NaN        Q  \n",
            "7      male   2.0      3      1            349909  21.0750   NaN        S  \n",
            "..      ...   ...    ...    ...               ...      ...   ...      ...  \n",
            "884    male  25.0      0      0   SOTON/OQ 392076   7.0500   NaN        S  \n",
            "885  female  39.0      0      5            382652  29.1250   NaN        Q  \n",
            "886    male  27.0      0      0            211536  13.0000   NaN        S  \n",
            "888  female   NaN      1      2        W./C. 6607  23.4500   NaN        S  \n",
            "890    male  32.0      0      0            370376   7.7500   NaN        Q  \n",
            "\n",
            "[708 rows x 12 columns]\n"
          ]
        }
      ]
    },
    {
      "cell_type": "code",
      "source": [
        "# Registros sin valores nulos\n",
        "registros_sin_nulos = df.dropna()\n",
        "print(\"Registros sin valores nulos:\")\n",
        "print(registros_sin_nulos)"
      ],
      "metadata": {
        "colab": {
          "base_uri": "https://localhost:8080/"
        },
        "id": "SAwPuiO7T-E6",
        "outputId": "821df688-242a-4861-f530-96ee711a9c4d"
      },
      "execution_count": 13,
      "outputs": [
        {
          "output_type": "stream",
          "name": "stdout",
          "text": [
            "Registros sin valores nulos:\n",
            "     PassengerId  Survived  Pclass  \\\n",
            "1              2         1       1   \n",
            "3              4         1       1   \n",
            "6              7         0       1   \n",
            "10            11         1       3   \n",
            "11            12         1       1   \n",
            "..           ...       ...     ...   \n",
            "871          872         1       1   \n",
            "872          873         0       1   \n",
            "879          880         1       1   \n",
            "887          888         1       1   \n",
            "889          890         1       1   \n",
            "\n",
            "                                                  Name     Sex   Age  SibSp  \\\n",
            "1    Cumings, Mrs. John Bradley (Florence Briggs Th...  female  38.0      1   \n",
            "3         Futrelle, Mrs. Jacques Heath (Lily May Peel)  female  35.0      1   \n",
            "6                              McCarthy, Mr. Timothy J    male  54.0      0   \n",
            "10                     Sandstrom, Miss. Marguerite Rut  female   4.0      1   \n",
            "11                            Bonnell, Miss. Elizabeth  female  58.0      0   \n",
            "..                                                 ...     ...   ...    ...   \n",
            "871   Beckwith, Mrs. Richard Leonard (Sallie Monypeny)  female  47.0      1   \n",
            "872                           Carlsson, Mr. Frans Olof    male  33.0      0   \n",
            "879      Potter, Mrs. Thomas Jr (Lily Alexenia Wilson)  female  56.0      0   \n",
            "887                       Graham, Miss. Margaret Edith  female  19.0      0   \n",
            "889                              Behr, Mr. Karl Howell    male  26.0      0   \n",
            "\n",
            "     Parch    Ticket     Fare        Cabin Embarked  \n",
            "1        0  PC 17599  71.2833          C85        C  \n",
            "3        0    113803  53.1000         C123        S  \n",
            "6        0     17463  51.8625          E46        S  \n",
            "10       1   PP 9549  16.7000           G6        S  \n",
            "11       0    113783  26.5500         C103        S  \n",
            "..     ...       ...      ...          ...      ...  \n",
            "871      1     11751  52.5542          D35        S  \n",
            "872      0       695   5.0000  B51 B53 B55        S  \n",
            "879      1     11767  83.1583          C50        C  \n",
            "887      0    112053  30.0000          B42        S  \n",
            "889      0    111369  30.0000         C148        C  \n",
            "\n",
            "[183 rows x 12 columns]\n"
          ]
        }
      ]
    },
    {
      "cell_type": "code",
      "source": [
        "# Obtener estadísticas descriptivas de las columnas numéricas\n",
        "estadisticas = df.describe()\n",
        "\n",
        "# Tarifa más cara\n",
        "tarifa_mas_cara = estadisticas.loc[\"max\", \"Fare\"]\n",
        "print(\"Tarifa más cara:\", tarifa_mas_cara)"
      ],
      "metadata": {
        "colab": {
          "base_uri": "https://localhost:8080/"
        },
        "id": "MyAsvhTLUTG9",
        "outputId": "629fc6ad-4ad6-4457-d051-afb6bb8d4c8d"
      },
      "execution_count": 16,
      "outputs": [
        {
          "output_type": "stream",
          "name": "stdout",
          "text": [
            "Tarifa más cara: 512.3292\n"
          ]
        }
      ]
    },
    {
      "cell_type": "code",
      "source": [
        "# Promedio de edad\n",
        "promedio_edad = estadisticas.loc[\"mean\", \"Age\"]\n",
        "print(\"Promedio de edad:\", promedio_edad)"
      ],
      "metadata": {
        "colab": {
          "base_uri": "https://localhost:8080/"
        },
        "id": "siI-sLCKUcPk",
        "outputId": "8e0dfa0f-b5e8-4463-ed5b-feb30ac178a0"
      },
      "execution_count": 17,
      "outputs": [
        {
          "output_type": "stream",
          "name": "stdout",
          "text": [
            "Promedio de edad: 29.69911764705882\n"
          ]
        }
      ]
    },
    {
      "cell_type": "code",
      "source": [
        "# Obtener las columnas categóricas\n",
        "columnas_categoricas = df.select_dtypes(include=[\"object\"]).columns\n",
        "print(columnas_categoricas)"
      ],
      "metadata": {
        "colab": {
          "base_uri": "https://localhost:8080/"
        },
        "id": "1gCPnNkMVz63",
        "outputId": "47eeae79-88d7-43a8-a6c5-ee61b2fe288f"
      },
      "execution_count": 20,
      "outputs": [
        {
          "output_type": "stream",
          "name": "stdout",
          "text": [
            "Index(['Name', 'Sex', 'Ticket', 'Cabin', 'Embarked'], dtype='object')\n"
          ]
        }
      ]
    },
    {
      "cell_type": "code",
      "source": [
        "# Contar los valores únicos en cada columna categórica\n",
        "for columna in columnas_categoricas:\n",
        "    valores_unicos = df[columna].unique()\n",
        "    cantidad_valores_unicos = len(valores_unicos)\n",
        "    print(f\"Número de valores únicos en la columna {columna}: {cantidad_valores_unicos}\")\n"
      ],
      "metadata": {
        "colab": {
          "base_uri": "https://localhost:8080/"
        },
        "id": "bh3FGiirVxva",
        "outputId": "19dfcd23-8f88-4452-d2a4-a38ebf952f07"
      },
      "execution_count": 19,
      "outputs": [
        {
          "output_type": "stream",
          "name": "stdout",
          "text": [
            "Número de valores únicos en la columna Name: 891\n",
            "Número de valores únicos en la columna Sex: 2\n",
            "Número de valores únicos en la columna Ticket: 681\n",
            "Número de valores únicos en la columna Cabin: 148\n",
            "Número de valores únicos en la columna Embarked: 4\n"
          ]
        }
      ]
    },
    {
      "cell_type": "markdown",
      "source": [
        "### Análisis de Datos"
      ],
      "metadata": {
        "id": "ZYAq2Fq6Zc_A"
      }
    },
    {
      "cell_type": "code",
      "source": [
        "# Calcular el total pagado por todos los pasajeros\n",
        "total_pagado = df[\"Fare\"].sum()\n",
        "print(\"Total pagado por todos los pasajeros:\", total_pagado)"
      ],
      "metadata": {
        "colab": {
          "base_uri": "https://localhost:8080/"
        },
        "id": "Xh2t4WLxZpjd",
        "outputId": "f45914ce-7ae8-442c-f2f9-52488e4b2635"
      },
      "execution_count": 21,
      "outputs": [
        {
          "output_type": "stream",
          "name": "stdout",
          "text": [
            "Total pagado por todos los pasajeros: 28693.9493\n"
          ]
        }
      ]
    },
    {
      "cell_type": "code",
      "source": [
        "# Subconjunto de los pasajeros que sobrevivieron\n",
        "sobrevivieron = df[df[\"Survived\"] == 1]\n",
        "num_sobrevivieron = len(sobrevivieron)\n",
        "print(\"Número de pasajeros que sobrevivieron:\", num_sobrevivieron)"
      ],
      "metadata": {
        "colab": {
          "base_uri": "https://localhost:8080/"
        },
        "id": "CnWuwwxjZ0dI",
        "outputId": "37b695a3-6d82-4869-a8ec-ab9506d4c384"
      },
      "execution_count": 24,
      "outputs": [
        {
          "output_type": "stream",
          "name": "stdout",
          "text": [
            "Número de pasajeros que sobrevivieron: 342\n"
          ]
        }
      ]
    },
    {
      "cell_type": "code",
      "source": [
        "datos_sobrevivieron = sobrevivieron.head(5)\n",
        "print(\"Datos de las personas que sobrevivieron:\")\n",
        "print(datos_sobrevivieron)"
      ],
      "metadata": {
        "colab": {
          "base_uri": "https://localhost:8080/"
        },
        "id": "_KGLJw1ya2_C",
        "outputId": "2b2167dd-7699-4b56-fe35-93b8ca3fead9"
      },
      "execution_count": 26,
      "outputs": [
        {
          "output_type": "stream",
          "name": "stdout",
          "text": [
            "Datos de las personas que sobrevivieron:\n",
            "   PassengerId  Survived  Pclass  \\\n",
            "1            2         1       1   \n",
            "2            3         1       3   \n",
            "3            4         1       1   \n",
            "8            9         1       3   \n",
            "9           10         1       2   \n",
            "\n",
            "                                                Name     Sex   Age  SibSp  \\\n",
            "1  Cumings, Mrs. John Bradley (Florence Briggs Th...  female  38.0      1   \n",
            "2                             Heikkinen, Miss. Laina  female  26.0      0   \n",
            "3       Futrelle, Mrs. Jacques Heath (Lily May Peel)  female  35.0      1   \n",
            "8  Johnson, Mrs. Oscar W (Elisabeth Vilhelmina Berg)  female  27.0      0   \n",
            "9                Nasser, Mrs. Nicholas (Adele Achem)  female  14.0      1   \n",
            "\n",
            "   Parch            Ticket     Fare Cabin Embarked  \n",
            "1      0          PC 17599  71.2833   C85        C  \n",
            "2      0  STON/O2. 3101282   7.9250   NaN        S  \n",
            "3      0            113803  53.1000  C123        S  \n",
            "8      2            347742  11.1333   NaN        S  \n",
            "9      0            237736  30.0708   NaN        C  \n"
          ]
        }
      ]
    },
    {
      "cell_type": "code",
      "source": [
        "# Subconjunto de los pasajeros que no sobrevivieron\n",
        "no_sobrevivieron = df[df[\"Survived\"] == 0]\n",
        "num_no_sobrevivieron = len(no_sobrevivieron)\n",
        "print(\"Número de pasajeros que no sobrevivieron:\", num_no_sobrevivieron)"
      ],
      "metadata": {
        "colab": {
          "base_uri": "https://localhost:8080/"
        },
        "id": "Py6KcFHqZ365",
        "outputId": "d8ea31da-ba94-43fb-a914-0c6c4f43d917"
      },
      "execution_count": 25,
      "outputs": [
        {
          "output_type": "stream",
          "name": "stdout",
          "text": [
            "Número de pasajeros que no sobrevivieron: 549\n"
          ]
        }
      ]
    },
    {
      "cell_type": "code",
      "source": [
        "no_sobrevivieron = df[df[\"Survived\"] == 0]\n",
        "datos_no_sobrevivieron = no_sobrevivieron.head(5)\n",
        "print(\"\\nDatos de las personas que no sobrevivieron:\")\n",
        "print(datos_no_sobrevivieron)"
      ],
      "metadata": {
        "colab": {
          "base_uri": "https://localhost:8080/"
        },
        "id": "lEW8oMXja7_a",
        "outputId": "003da0ad-c4a2-454e-aac3-fac8e86ddfbd"
      },
      "execution_count": 27,
      "outputs": [
        {
          "output_type": "stream",
          "name": "stdout",
          "text": [
            "\n",
            "Datos de las personas que no sobrevivieron:\n",
            "   PassengerId  Survived  Pclass                            Name   Sex   Age  \\\n",
            "0            1         0       3         Braund, Mr. Owen Harris  male  22.0   \n",
            "4            5         0       3        Allen, Mr. William Henry  male  35.0   \n",
            "5            6         0       3                Moran, Mr. James  male   NaN   \n",
            "6            7         0       1         McCarthy, Mr. Timothy J  male  54.0   \n",
            "7            8         0       3  Palsson, Master. Gosta Leonard  male   2.0   \n",
            "\n",
            "   SibSp  Parch     Ticket     Fare Cabin Embarked  \n",
            "0      1      0  A/5 21171   7.2500   NaN        S  \n",
            "4      0      0     373450   8.0500   NaN        S  \n",
            "5      0      0     330877   8.4583   NaN        Q  \n",
            "6      0      0      17463  51.8625   E46        S  \n",
            "7      3      1     349909  21.0750   NaN        S  \n"
          ]
        }
      ]
    }
  ]
}